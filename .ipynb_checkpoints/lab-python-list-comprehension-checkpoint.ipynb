{
 "cells": [
  {
   "cell_type": "markdown",
   "id": "25d7736c-ba17-4aff-b6bb-66eba20fbf4e",
   "metadata": {},
   "source": [
    "# Lab | List, Dict and Set Comprehension"
   ]
  },
  {
   "cell_type": "markdown",
   "id": "7dd3cbde-675a-4b81-92c3-f728846dbe06",
   "metadata": {},
   "source": [
    "## Exercise: Managing Customer Orders Optimized with Comprehension"
   ]
  },
  {
   "cell_type": "markdown",
   "id": "5d500160-2fb7-4777-b5e4-09d45ebaf328",
   "metadata": {},
   "source": [
    "In the previous exercise, you developed a program to manage customer orders and inventory. Now, let's take it a step further and incorporate comprehension into your code.\n",
    "\n",
    "Follow the steps below to complete the exercise:\n",
    "\n",
    "1. Review your code from the previous exercise and identify areas where you can apply comprehension to simplify and streamline your code. \n",
    "\n",
    "    - *Hint: Apply it to initialize inventory, updating the inventory and printing the updated inventory.*\n",
    "    \n",
    "    - For example, in initializing the inventory, we could have:\n",
    "    \n",
    "        ```python\n",
    "        def initialize_inventory(products):\n",
    "            inventory = {product: int(input(f\"Enter the quantity of {product}s available: \")) for product in products}\n",
    "            return inventory\n",
    "\n",
    "        ```\n",
    "<br>\n",
    "    \n",
    "    \n",
    "2. Modify the function get_customer_orders so it prompts the user to enter the number of customer orders and gathers the product names using a loop and user input. Use comprehension.\n",
    "\n",
    "3. Add a new function to calculate the total price of the customer order. For each product in customer_orders, prompt the user to enter the price of that product. Use comprehension to calculate the total price. Note: assume that the user can only have 1 unit of each product.\n",
    "\n",
    "4. Modify the update_inventory function to remove the product from the inventory if its quantity becomes zero after fulfilling the customer orders. Use comprehension to filter out the products with a quantity of zero from the inventory. \n",
    "\n",
    "5. Print the total price of the customer order.\n",
    "\n",
    "Your code should produce output similar to the following:\n",
    "\n",
    "```python\n",
    "Enter the quantity of t-shirts available:  5\n",
    "Enter the quantity of mugs available:  4\n",
    "Enter the quantity of hats available:  3\n",
    "Enter the quantity of books available:  2\n",
    "Enter the quantity of keychains available:  1\n",
    "Enter the number of customer orders:  2\n",
    "Enter the name of a product that a customer wants to order:  hat\n",
    "Enter the name of a product that a customer wants to order:  keychain\n",
    "\n",
    "Order Statistics:\n",
    "Total Products Ordered: 2\n",
    "Percentage of Unique Products Ordered: 40.0\n",
    "\n",
    "Updated Inventory:\n",
    "t-shirt: 5\n",
    "mug: 4\n",
    "hat: 2\n",
    "book: 2\n",
    "Enter the price of keychain:  5\n",
    "Enter the price of hat:  10\n",
    "Total Price: 15.0\n",
    "\n",
    "```\n"
   ]
  },
  {
   "cell_type": "code",
   "execution_count": 1,
   "id": "90e2fc87",
   "metadata": {},
   "outputs": [
    {
     "name": "stdout",
     "output_type": "stream",
     "text": [
      "Enter the quantity of t-shirts available: 1\n",
      "Enter the quantity of mugs available: 1\n",
      "Enter the quantity of hats available: 1\n",
      "Enter the quantity of books available: 1\n",
      "Enter the quantity of keychains available: 1\n",
      "Current inventory: {'t-shirt': 1, 'mug': 1, 'hat': 1, 'book': 1, 'keychain': 1}\n"
     ]
    }
   ],
   "source": [
    "def initialize_inventory(products):\n",
    "    inventory = {product: int(input(f\"Enter the quantity of {product}s available: \")) for product in products}\n",
    "    return inventory\n",
    "        \n",
    "products=[\"t-shirt\", \"mug\", \"hat\", \"book\", \"keychain\"]\n",
    "inventory = initialize_inventory(products)\n",
    "print(\"Current inventory:\", inventory)\n"
   ]
  },
  {
   "cell_type": "code",
   "execution_count": 2,
   "id": "2f200530",
   "metadata": {},
   "outputs": [
    {
     "name": "stdout",
     "output_type": "stream",
     "text": [
      "Do you want a t-shirt/mug/hat/book/keychain? mug\n",
      "How many mugs would you like? 1\n",
      "Would you like anything else? (yes/no) yes\n",
      "Do you want a t-shirt/mug/hat/book/keychain? hat\n",
      "How many hats would you like? 1\n",
      "Would you like anything else? (yes/no) \n",
      "Your order: ['mug', 'hat']\n"
     ]
    }
   ],
   "source": [
    "#While trying to figure out how to craft this function using comprehension, I got a bit side tracked and ended up here.\n",
    " \n",
    "def get_customer_orders():\n",
    "    items = ['t-shirt', 'mug', 'hat', 'book', 'keychain']\n",
    "    \n",
    "    customer_orders = []\n",
    "    while True:\n",
    "        order = input(f\"Do you want a {'/'.join(items)}? \").strip().lower()\n",
    "        if order == 'done':\n",
    "            break\n",
    "        if order in items:\n",
    "            quantity = int(input(f\"How many {order}s would you like? \"))\n",
    "            customer_orders.extend([order] * quantity)\n",
    "        else:\n",
    "            print(\"Invalid item. Please choose from the provided list.\")\n",
    "            \n",
    "        more_orders = input(\"Would you like anything else? (yes/no) \").strip().lower()\n",
    "        if more_orders != 'yes':\n",
    "            break\n",
    "            \n",
    "    return customer_orders\n",
    "\n",
    "customer_orders = get_customer_orders()\n",
    "print(\"Your order:\", customer_orders)"
   ]
  },
  {
   "cell_type": "code",
   "execution_count": 7,
   "id": "054195db",
   "metadata": {},
   "outputs": [
    {
     "name": "stdout",
     "output_type": "stream",
     "text": [
      "Enter the cost of a hat: 1\n",
      "Enter the cost of a mug: 1\n",
      "Total cost of order: 2.0\n"
     ]
    }
   ],
   "source": [
    "#Add a new function to calculate the total price of the customer order. \n",
    "#For each product in customer_orders, prompt the user to enter the price of that product. \n",
    "#Use comprehension to calculate the total price. Note: assume that the user can only have 1 unit of each product.\n",
    "#Print the total price of the customer order.\n",
    "def calculate_order_price(customer_orders):\n",
    "    order_price = {item: float(input(f\"Enter the cost of a {item}: \")) for item in set(customer_orders)}\n",
    "    return sum(order_price.values())\n",
    "\n",
    "cost = calculate_order_price(customer_orders)\n",
    "print(\"Total cost of order:\", cost)"
   ]
  },
  {
   "cell_type": "code",
   "execution_count": 8,
   "id": "39a48f10",
   "metadata": {},
   "outputs": [
    {
     "name": "stdout",
     "output_type": "stream",
     "text": [
      "Updated Inventory:\n",
      "{'t-shirt': 1, 'book': 1, 'keychain': 1}\n"
     ]
    }
   ],
   "source": [
    "#Modify the update_inventory function to remove the product from the inventory if its quantity becomes zero \n",
    "#after fulfilling the customer orders. Use comprehension to filter out the products with a quantity of zero from the inventory.\n",
    "\n",
    "def update_inventory(customer_orders, inventory):\n",
    "    updated_inventory = {item: count for item, count in inventory.items() if count - customer_orders.count(item) > 0}\n",
    "    return updated_inventory\n",
    "\n",
    "updated_inventory = update_inventory(customer_orders, inventory)\n",
    "print(\"Updated Inventory:\")\n",
    "print(updated_inventory)\n",
    "\n",
    "#This is cool but it's a shame the calculate_order_price function assumes there is only one of each item (max) ordered."
   ]
  },
  {
   "cell_type": "code",
   "execution_count": 9,
   "id": "6ea59ea8",
   "metadata": {},
   "outputs": [],
   "source": [
    "def calculate_order_statistics(customer_orders,products):\n",
    "    nb_ordered=len(customer_orders)\n",
    "    nb_ordered_unique = len(set(customer_orders))\n",
    "    nb_products=len(products)\n",
    "    percentage_prod_ordered= round(nb_ordered_unique/nb_products*100)\n",
    "    return nb_ordered, nb_products, percentage_prod_ordered, nb_ordered_unique\n",
    "\n",
    "order_statistics = calculate_order_statistics(customer_orders, products)"
   ]
  },
  {
   "cell_type": "code",
   "execution_count": 10,
   "id": "d4d3a7fb",
   "metadata": {},
   "outputs": [
    {
     "ename": "NameError",
     "evalue": "name 'nb_ordered' is not defined",
     "output_type": "error",
     "traceback": [
      "\u001b[1;31m---------------------------------------------------------------------------\u001b[0m",
      "\u001b[1;31mNameError\u001b[0m                                 Traceback (most recent call last)",
      "Cell \u001b[1;32mIn[10], line 9\u001b[0m\n\u001b[0;32m      6\u001b[0m     \u001b[38;5;28mprint\u001b[39m(stat2)\n\u001b[0;32m      7\u001b[0m     \u001b[38;5;28mprint\u001b[39m(stat3)\n\u001b[1;32m----> 9\u001b[0m print_order_statistics(order_statistics)\n",
      "Cell \u001b[1;32mIn[10], line 2\u001b[0m, in \u001b[0;36mprint_order_statistics\u001b[1;34m(order_statistics)\u001b[0m\n\u001b[0;32m      1\u001b[0m \u001b[38;5;28;01mdef\u001b[39;00m \u001b[38;5;21mprint_order_statistics\u001b[39m(order_statistics):\n\u001b[1;32m----> 2\u001b[0m     stat1 \u001b[38;5;241m=\u001b[39m \u001b[38;5;124mf\u001b[39m\u001b[38;5;124m\"\u001b[39m\u001b[38;5;124mTotal products ordered: \u001b[39m\u001b[38;5;132;01m{\u001b[39;00mnb_ordered\u001b[38;5;132;01m}\u001b[39;00m\u001b[38;5;124m\"\u001b[39m\n\u001b[0;32m      3\u001b[0m     stat2 \u001b[38;5;241m=\u001b[39m \u001b[38;5;124mf\u001b[39m\u001b[38;5;124m\"\u001b[39m\u001b[38;5;124mTotal unique products ordered: \u001b[39m\u001b[38;5;132;01m{\u001b[39;00mnb_ordered_unique\u001b[38;5;132;01m}\u001b[39;00m\u001b[38;5;124m\"\u001b[39m\n\u001b[0;32m      4\u001b[0m     stat3 \u001b[38;5;241m=\u001b[39m\u001b[38;5;124mf\u001b[39m\u001b[38;5;124m\"\u001b[39m\u001b[38;5;124mThis order includes \u001b[39m\u001b[38;5;132;01m{\u001b[39;00mnb_ordered_unique\u001b[38;5;132;01m}\u001b[39;00m\u001b[38;5;124m of \u001b[39m\u001b[38;5;132;01m{\u001b[39;00mnb_products\u001b[38;5;132;01m}\u001b[39;00m\u001b[38;5;124m total available products - or \u001b[39m\u001b[38;5;132;01m{\u001b[39;00mpercentage_prod_ordered\u001b[38;5;132;01m}\u001b[39;00m\u001b[38;5;124m% of all products.\u001b[39m\u001b[38;5;124m\"\u001b[39m\n",
      "\u001b[1;31mNameError\u001b[0m: name 'nb_ordered' is not defined"
     ]
    }
   ],
   "source": [
    "def print_order_statistics(order_statistics):\n",
    "    stat1 = f\"Total products ordered: {nb_ordered}\"\n",
    "    stat2 = f\"Total unique products ordered: {nb_ordered_unique}\"\n",
    "    stat3 =f\"This order includes {nb_ordered_unique} of {nb_products} total available products - or {percentage_prod_ordered}% of all products.\"\n",
    "    print(stat1)\n",
    "    print(stat2)\n",
    "    print(stat3)\n",
    "\n",
    "print_order_statistics(order_statistics)"
   ]
  },
  {
   "cell_type": "code",
   "execution_count": null,
   "id": "c6de3eb9",
   "metadata": {},
   "outputs": [],
   "source": []
  }
 ],
 "metadata": {
  "kernelspec": {
   "display_name": "Python 3 (ipykernel)",
   "language": "python",
   "name": "python3"
  },
  "language_info": {
   "codemirror_mode": {
    "name": "ipython",
    "version": 3
   },
   "file_extension": ".py",
   "mimetype": "text/x-python",
   "name": "python",
   "nbconvert_exporter": "python",
   "pygments_lexer": "ipython3",
   "version": "3.11.5"
  }
 },
 "nbformat": 4,
 "nbformat_minor": 5
}
